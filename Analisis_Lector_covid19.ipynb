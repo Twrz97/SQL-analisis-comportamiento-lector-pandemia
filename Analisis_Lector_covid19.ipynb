{
 "cells": [
  {
   "cell_type": "markdown",
   "id": "c1d0872e",
   "metadata": {},
   "source": [
    "# 📘 Proyecto: Análisis de comportamiento lector durante la pandemia\n",
    "___\n",
    "\n",
    "## 🧩 Contexto\n",
    "Durante la pandemia de COVID-19, el hábito de lectura se intensificó. Muchas personas comenzaron a consumir libros desde casa, lo que impulsó el desarrollo de aplicaciones orientadas a lectores. Se nos ha proporcionado una base de datos de uno de estos servicios, con información sobre libros, autores, editoriales, calificaciones y reseñas. \n",
    "____\n",
    "## 🎯Objetivos del estudio\n",
    "- Analizar la estructura de la base de datos.\n",
    "- Responder cinco preguntas clave mediante consultas SQL.\n",
    "- Documentar hallazgos con claridad y trazabilidad.\n",
    "____\n",
    "# 🗃️ Exploración inicial: conexión y estructura"
   ]
  },
  {
   "cell_type": "code",
   "execution_count": 56,
   "id": "a4f4be20",
   "metadata": {},
   "outputs": [],
   "source": [
    "# Creamos engine para conexion a sql\n",
    "import pandas as pd\n",
    "from sqlalchemy import create_engine\n",
    "\n",
    "db_config = {'user': 'practicum_student',       # nombre de usuario\n",
    "             'pwd': 's65BlTKV3faNIGhmvJVzOqhs', # contraseña\n",
    "             'host': 'rc1b-wcoijxj3yxfsf3fs.mdb.yandexcloud.net',\n",
    "             'port': 6432,              # puerto de conexión\n",
    "             'db': 'data-analyst-final-project-db'}          # nombre de la base de datos\n",
    "\n",
    "connection_string = 'postgresql://{}:{}@{}:{}/{}'.format(db_config['user'],\n",
    "                                                                     db_config['pwd'],\n",
    "                                                                       db_config['host'],\n",
    "                                                                       db_config['port'],\n",
    "                                                                       db_config['db'])\n",
    "\n",
    "engine = create_engine(connection_string, connect_args={'sslmode':'require'})"
   ]
  },
  {
   "cell_type": "markdown",
   "id": "4e6a687d",
   "metadata": {},
   "source": [
    "____________________"
   ]
  },
  {
   "cell_type": "markdown",
   "id": "bf2fa01a",
   "metadata": {},
   "source": [
    "## 🔍 Tablas disponibles"
   ]
  },
  {
   "cell_type": "code",
   "execution_count": 57,
   "id": "8cebc511",
   "metadata": {},
   "outputs": [
    {
     "data": {
      "text/html": [
       "<div>\n",
       "<style scoped>\n",
       "    .dataframe tbody tr th:only-of-type {\n",
       "        vertical-align: middle;\n",
       "    }\n",
       "\n",
       "    .dataframe tbody tr th {\n",
       "        vertical-align: top;\n",
       "    }\n",
       "\n",
       "    .dataframe thead th {\n",
       "        text-align: right;\n",
       "    }\n",
       "</style>\n",
       "<table border=\"1\" class=\"dataframe\">\n",
       "  <thead>\n",
       "    <tr style=\"text-align: right;\">\n",
       "      <th></th>\n",
       "      <th>table_name</th>\n",
       "    </tr>\n",
       "  </thead>\n",
       "  <tbody>\n",
       "    <tr>\n",
       "      <th>0</th>\n",
       "      <td>advertisment_costs</td>\n",
       "    </tr>\n",
       "    <tr>\n",
       "      <th>1</th>\n",
       "      <td>authors</td>\n",
       "    </tr>\n",
       "    <tr>\n",
       "      <th>2</th>\n",
       "      <td>books</td>\n",
       "    </tr>\n",
       "    <tr>\n",
       "      <th>3</th>\n",
       "      <td>check_avg</td>\n",
       "    </tr>\n",
       "    <tr>\n",
       "      <th>4</th>\n",
       "      <td>orders</td>\n",
       "    </tr>\n",
       "    <tr>\n",
       "      <th>5</th>\n",
       "      <td>publishers</td>\n",
       "    </tr>\n",
       "    <tr>\n",
       "      <th>6</th>\n",
       "      <td>ratings</td>\n",
       "    </tr>\n",
       "    <tr>\n",
       "      <th>7</th>\n",
       "      <td>reviews</td>\n",
       "    </tr>\n",
       "    <tr>\n",
       "      <th>8</th>\n",
       "      <td>visits</td>\n",
       "    </tr>\n",
       "  </tbody>\n",
       "</table>\n",
       "</div>"
      ],
      "text/plain": [
       "           table_name\n",
       "0  advertisment_costs\n",
       "1             authors\n",
       "2               books\n",
       "3           check_avg\n",
       "4              orders\n",
       "5          publishers\n",
       "6             ratings\n",
       "7             reviews\n",
       "8              visits"
      ]
     },
     "execution_count": 57,
     "metadata": {},
     "output_type": "execute_result"
    }
   ],
   "source": [
    "# Verificamos la conexión y vemos las tablas\n",
    "query = \"\"\"\n",
    "select table_name\n",
    "from information_schema.tables\n",
    "where table_schema='public'\n",
    "\"\"\"\n",
    "\n",
    "df = pd.io.sql.read_sql(query, con =engine)\n",
    "df"
   ]
  },
  {
   "cell_type": "markdown",
   "id": "385ed4cf",
   "metadata": {},
   "source": [
    "_____\n",
    "# 📚1. Total de libros publicados despues de Enero 1, 2000"
   ]
  },
  {
   "cell_type": "code",
   "execution_count": 58,
   "id": "bcb2db72",
   "metadata": {},
   "outputs": [
    {
     "name": "stdout",
     "output_type": "stream",
     "text": [
      "Se publicaron 819 libros despues del 1 de Enero del 2000\n"
     ]
    }
   ],
   "source": [
    "# Obtenemos numero de libros publicados despues de Enero 1, 2000\n",
    "total_libros = \"\"\"\n",
    "select count(*) as total\n",
    "from books\n",
    "where publication_date is not null and publication_date > '2000-01-01'\n",
    "\"\"\"\n",
    "# Leemos el resultado en un dataframe\n",
    "df_total_libros = pd.io.sql.read_sql(total_libros, con=engine)\n",
    "\n",
    "# Extraemos el numero del dataframe\n",
    "total_libros = df_total_libros['total'][0]\n",
    "total_libros = int(total_libros) # Convertimos a entero\n",
    "\n",
    "# Mostramos el resultado\n",
    "print(f'Se publicaron {total_libros} libros despues del 1 de Enero del 2000')\n"
   ]
  },
  {
   "cell_type": "markdown",
   "id": "160fdf94",
   "metadata": {},
   "source": [
    "## 🧫Resultados\n",
    "Se identificaron **819 libros** publicados después del 1 de enero del 2000, lo que demuestra una base sólida de títulos recientes que pueden ser relevantes para lectores contemporáneos."
   ]
  },
  {
   "cell_type": "markdown",
   "id": "18559783",
   "metadata": {},
   "source": [
    "______\n",
    "## ✅2. Total de reseñas hechas por usuarios"
   ]
  },
  {
   "cell_type": "code",
   "execution_count": 60,
   "id": "f4c6e72b",
   "metadata": {},
   "outputs": [
    {
     "name": "stdout",
     "output_type": "stream",
     "text": [
      "Existen 2793 reseñas de usuarios en total\n"
     ]
    }
   ],
   "source": [
    "# obtenemos total de reseñas hechas por usuarios y calificacion promedio para cada libro\n",
    "total_reseñas = \"\"\"\n",
    "select count(*) as total_reseñas\n",
    "from reviews\n",
    "\"\"\"\n",
    "\n",
    "# Leemos el resultado en un dataframe\n",
    "df_total_reseñas = pd.io.sql.read_sql(total_reseñas, con=engine)\n",
    "\n",
    "# Extraemos el numero del dataframe\n",
    "total_reseñas = df_total_reseñas['total_reseñas'][0]\n",
    "\n",
    "print(f'Existen {total_reseñas} reseñas de usuarios en total')"
   ]
  },
  {
   "cell_type": "markdown",
   "id": "950d9006",
   "metadata": {},
   "source": [
    "## 🧫Resultados\n",
    "La base contiene **2793 reseñas de texto**. Al calcular la calificación promedio por libro, se identificaron varios títulos con puntuaciones perfectas, lo que permite destacar obras altamente valoradas por la comunidad lectora."
   ]
  },
  {
   "cell_type": "markdown",
   "id": "8a12e010",
   "metadata": {},
   "source": [
    "____\n",
    "## 📗3. Calificacion promedio para cada libro\n",
    "Consulta que calcula la calificación promedio de cada libro, uniendo las tablas `ratings` y `books`. Se agrupa por `book_id` y `title` para asegurar unicidad y trazabilidad. El resultado se ordena de mayor a menor para destacar los libros mejor valorados."
   ]
  },
  {
   "cell_type": "code",
   "execution_count": 61,
   "id": "33258d5c",
   "metadata": {},
   "outputs": [
    {
     "data": {
      "text/html": [
       "<div>\n",
       "<style scoped>\n",
       "    .dataframe tbody tr th:only-of-type {\n",
       "        vertical-align: middle;\n",
       "    }\n",
       "\n",
       "    .dataframe tbody tr th {\n",
       "        vertical-align: top;\n",
       "    }\n",
       "\n",
       "    .dataframe thead th {\n",
       "        text-align: right;\n",
       "    }\n",
       "</style>\n",
       "<table border=\"1\" class=\"dataframe\">\n",
       "  <thead>\n",
       "    <tr style=\"text-align: right;\">\n",
       "      <th></th>\n",
       "      <th>book_id</th>\n",
       "      <th>title</th>\n",
       "      <th>calificacion_promedio</th>\n",
       "    </tr>\n",
       "  </thead>\n",
       "  <tbody>\n",
       "    <tr>\n",
       "      <th>0</th>\n",
       "      <td>518</td>\n",
       "      <td>Pop Goes the Weasel (Alex Cross  #5)</td>\n",
       "      <td>5.0</td>\n",
       "    </tr>\n",
       "    <tr>\n",
       "      <th>1</th>\n",
       "      <td>732</td>\n",
       "      <td>The Ghost Map: The Story of London's Most Terr...</td>\n",
       "      <td>5.0</td>\n",
       "    </tr>\n",
       "    <tr>\n",
       "      <th>2</th>\n",
       "      <td>347</td>\n",
       "      <td>In the Hand of the Goddess (Song of the Liones...</td>\n",
       "      <td>5.0</td>\n",
       "    </tr>\n",
       "    <tr>\n",
       "      <th>3</th>\n",
       "      <td>610</td>\n",
       "      <td>Tai-Pan (Asian Saga  #2)</td>\n",
       "      <td>5.0</td>\n",
       "    </tr>\n",
       "    <tr>\n",
       "      <th>4</th>\n",
       "      <td>330</td>\n",
       "      <td>How to Be a Domestic Goddess: Baking and the A...</td>\n",
       "      <td>5.0</td>\n",
       "    </tr>\n",
       "  </tbody>\n",
       "</table>\n",
       "</div>"
      ],
      "text/plain": [
       "   book_id                                              title  \\\n",
       "0      518               Pop Goes the Weasel (Alex Cross  #5)   \n",
       "1      732  The Ghost Map: The Story of London's Most Terr...   \n",
       "2      347  In the Hand of the Goddess (Song of the Liones...   \n",
       "3      610                           Tai-Pan (Asian Saga  #2)   \n",
       "4      330  How to Be a Domestic Goddess: Baking and the A...   \n",
       "\n",
       "   calificacion_promedio  \n",
       "0                    5.0  \n",
       "1                    5.0  \n",
       "2                    5.0  \n",
       "3                    5.0  \n",
       "4                    5.0  "
      ]
     },
     "execution_count": 61,
     "metadata": {},
     "output_type": "execute_result"
    }
   ],
   "source": [
    "# Obtenemos calificacion promedio para cada libro\n",
    "average_rating = \"\"\"\n",
    "select b.book_id, b.title, avg(r.rating) as calificacion_promedio\n",
    "from ratings as r\n",
    "join books as b on r.book_id = b.book_id\n",
    "group by b.book_id, b.title\n",
    "order by calificacion_promedio desc\n",
    "\"\"\"\n",
    "\n",
    "# Leemos el resultado en un dataframe\n",
    "df_average_rating = pd.io.sql.read_sql(average_rating, con=engine)\n",
    "\n",
    "# Mostramos las primeras filas del dataframe\n",
    "df_average_rating.head()"
   ]
  },
  {
   "cell_type": "markdown",
   "id": "352b5a30",
   "metadata": {},
   "source": [
    "## 🧫Resultados\n",
    "Se calcularon las calificaciones promedio de todos los libros registrados. Los títulos con puntuación perfecta (5.0) destacan por su alta valoración entre los lectores, lo que los convierte en candidatos ideales para recomendaciones dentro de la aplicación. \n",
    "\n",
    "Esto permite identificar contenido de alta calidad percibida."
   ]
  },
  {
   "cell_type": "markdown",
   "id": "08808774",
   "metadata": {},
   "source": [
    "____\n",
    "## 🏛️4. Editorial con mayor numero de libros publicados(+50 paginas)"
   ]
  },
  {
   "cell_type": "code",
   "execution_count": 62,
   "id": "c2894269",
   "metadata": {},
   "outputs": [
    {
     "name": "stdout",
     "output_type": "stream",
     "text": [
      "La editorial con mayor numero de libros publicados con mas de 50 paginas\n",
      " es:\n",
      "\tPenguin Books \n",
      "con:\n",
      "\t42 libros publicados.\n"
     ]
    }
   ],
   "source": [
    "editoriales = \"\"\"\n",
    "select p.publisher, count(b.book_id) as total_libros\n",
    "from books as b\n",
    "join publishers as p on b.publisher_id = p.publisher_id\n",
    "where b.num_pages > 50\n",
    "group by p.publisher\n",
    "order by total_libros desc\n",
    "\"\"\"\n",
    "# Leemos el resultado en un dataframe\n",
    "df_editoriales = pd.io.sql.read_sql(editoriales, con=engine)\n",
    "\n",
    "# Mostramos las primeras filas del dataframe\n",
    "df_editoriales.head()\n",
    "\n",
    "# Mostramos respues\n",
    "print(f'La editorial con mayor numero de libros publicados con mas de 50 paginas\\n es:\\n\\t{df_editoriales.iloc[0,0]} \\ncon:\\n\\t{df_editoriales.iloc[0,1]} libros publicados.')\n"
   ]
  },
  {
   "cell_type": "markdown",
   "id": "821be399",
   "metadata": {},
   "source": [
    "## 🧫Resultados\n",
    "Penguin Books lidera con 42 libros de más de 50 páginas, posicionándose como la editorial más activa en publicaciones sustanciales dentro del conjunto de datos."
   ]
  },
  {
   "cell_type": "markdown",
   "id": "4f772669",
   "metadata": {},
   "source": [
    "_____\n",
    "## 👤5. Autor con mayor calificacion promedio del libro(minimo 50 calificaciones)"
   ]
  },
  {
   "cell_type": "code",
   "execution_count": 63,
   "id": "d4022431",
   "metadata": {},
   "outputs": [
    {
     "name": "stdout",
     "output_type": "stream",
     "text": [
      "El autor con mayor calificacion promedio del libro es:\n",
      "\tJ.K. Rowling/Mary GrandPré \n",
      "con su libro:\n",
      "\t\"Harry Potter and the Prisoner of Azkaban (Harry Potter  #3)\" \n",
      "que tiene una calificacion promedio de:\n",
      "\t4.41 \n",
      "basada en:\n",
      "\t82 calificaciones.\n"
     ]
    }
   ],
   "source": [
    "# libros con mayor calificacion promedio del libro(minimo 50 calificaciones)\n",
    "autores = \"\"\"\n",
    "select a.author, b.title, avg(r.rating) as calificacion_promedio, count(r.rating) as total_calificaciones\n",
    "from authors as a\n",
    "join books as b on a.author_id = b.author_id\n",
    "join ratings as r on b.book_id = r.book_id\n",
    "group by b.book_id, b.title, a.author\n",
    "having count(r.rating) >= 50\n",
    "order by calificacion_promedio desc\n",
    "\"\"\"\n",
    "\n",
    "# Leemos el resultado en un dataframe\n",
    "df_autores = pd.io.sql.read_sql(autores, con=engine)\n",
    "\n",
    "# Mostramos las primeras filas del dataframe\n",
    "df_autores.head()\n",
    "\n",
    "# Mostramos respuesta\n",
    "print(f'El autor con mayor calificacion promedio del libro es:\\n\\t{df_autores.iloc[0,0]} \\ncon su libro:\\n\\t\"{df_autores.iloc[0,1]}\" \\nque tiene una calificacion promedio de:\\n\\t{df_autores.iloc[0,2]:.2f} \\nbasada en:\\n\\t{df_autores.iloc[0,3]} calificaciones.')"
   ]
  },
  {
   "cell_type": "markdown",
   "id": "3e4eb4bf",
   "metadata": {},
   "source": [
    "## 🧫Resultados\n",
    "El autor con el libro mejor valorado fue **J.K. Rowling/Mary GrandPré**, con *Harry Potter and the Prisoner of Azkaban*, que obtuvo una calificación promedio de 4.41 basada en **82 evaluaciones**. Este resultado no solo destaca la popularidad sostenida de la saga de Harry Potter, sino también el nivel de satisfacción que genera entre lectores activos. Al aplicar el filtro de mínimo 50 calificaciones, se garantiza que el dato refleje una percepción colectiva y confiable, lo que lo convierte en un referente sólido para recomendaciones dentro de la aplicación."
   ]
  },
  {
   "cell_type": "markdown",
   "id": "95c1176c",
   "metadata": {},
   "source": [
    "_____\n",
    "## ✳️6. Promedio de reseñas escritas por usuarios(con mas de 50)"
   ]
  },
  {
   "cell_type": "code",
   "execution_count": 70,
   "id": "e83e789e",
   "metadata": {},
   "outputs": [
    {
     "name": "stdout",
     "output_type": "stream",
     "text": [
      "El promedio de reseñas escritas por usuarios con mas de 50 calificaciones es de:\n",
      "\t24.33 reseñas por usuario.\n"
     ]
    }
   ],
   "source": [
    "# Encuentra el número promedio de reseñas de texto entre los usuarios que calificaron más de 50 libros\n",
    "promedio_reseñas_texto = \"\"\"\n",
    "SELECT AVG(total_reviews) AS promedio_reseñas\n",
    "FROM (\n",
    "    select username, count(*) as total_reviews\n",
    "    FROM reviews\n",
    "    where username in (\n",
    "        select username\n",
    "        from ratings\n",
    "        group BY username\n",
    "        having count(*) > 50\n",
    "    )\n",
    "    group by username\n",
    ") as subquery;\n",
    "\"\"\"\n",
    "\n",
    "df_promedio_reseñas_texto = pd.io.sql.read_sql(promedio_reseñas_texto, con=engine)\n",
    "\n",
    "# Mostramos las primeras filas del dataframe\n",
    "print(f'El promedio de reseñas escritas por usuarios con mas de 50 calificaciones es de:\\n\\t{df_promedio_reseñas_texto.iloc[0,0]:.2f} reseñas por usuario.')"
   ]
  },
  {
   "cell_type": "markdown",
   "id": "410d0407",
   "metadata": {},
   "source": [
    "## 🧫Resultados\n",
    "Los usuarios más activos escribieron en promedio 24.33 reseñas de texto, lo que revela un segmento comprometido que podría ser clave para estrategias de fidelización y recomendación."
   ]
  },
  {
   "cell_type": "markdown",
   "id": "2fa35881",
   "metadata": {},
   "source": [
    "_____\n"
   ]
  },
  {
   "cell_type": "markdown",
   "id": "b23d7783",
   "metadata": {},
   "source": [
    "# 🧾 Conclusión general\n",
    "El análisis permitió extraer insights clave sobre publicaciones, comportamiento de usuarios y calidad percibida de los libros. Las consultas SQL aplicadas ofrecieron trazabilidad y claridad, reforzando la utilidad de esta base de datos para diseñar productos centrados en lectores activos y contenido de alto valor.\n",
    "____"
   ]
  },
  {
   "cell_type": "markdown",
   "id": "73db4fe0",
   "metadata": {},
   "source": []
  }
 ],
 "metadata": {
  "kernelspec": {
   "display_name": "base",
   "language": "python",
   "name": "python3"
  },
  "language_info": {
   "codemirror_mode": {
    "name": "ipython",
    "version": 3
   },
   "file_extension": ".py",
   "mimetype": "text/x-python",
   "name": "python",
   "nbconvert_exporter": "python",
   "pygments_lexer": "ipython3",
   "version": "3.13.5"
  }
 },
 "nbformat": 4,
 "nbformat_minor": 5
}
